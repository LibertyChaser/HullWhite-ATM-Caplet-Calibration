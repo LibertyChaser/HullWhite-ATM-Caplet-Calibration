{
 "cells": [
  {
   "cell_type": "markdown",
   "metadata": {},
   "source": [
    "\n"
   ]
  },
  {
   "cell_type": "markdown",
   "metadata": {},
   "source": [
    "# Requirements\n"
   ]
  },
  {
   "cell_type": "markdown",
   "metadata": {},
   "source": [
    "\n",
    "Your objective will be to calibrate a Hull-White model to ATM caplet market implied volatilities. You will be expected to go through the following steps: \n",
    "1. download ATM cap data, \n",
    "2. program in Python a theoretical closed-form pricing function for the Hull-White model, \n",
    "3. program a Monte-Carlo simulation-based function and \n",
    "4. verify that it produces the same price of all caps as the closed-form solution, and \n",
    "5. calibrate the Hull-White model to the data by minimizing the sum of squared pricing errors over model parameters. \n",
    "\n",
    "Your final project deliverables should include clean, bug-free, and well-commented source code accompanied by “Executive Summary” of results with tables, graphs comparing model vs. market implied vols, as well as intelligent comments on model limitations.\n",
    "\n",
    "Performing well on the group project requires you to write an “Executive Summary” that discusses your modeling techniques and results. Ideally, you should be turning in a professional, well written report that details the motivation for the project, how you implemented the project, and how your results match up to the observed market quantities. While there are no strict requirements for what your executive report should contain, it is suggested that at a minimum the report should contain a well-thought discussion of how you implemented the project, the model limitations, and how well your model fits the data. The remaining choice of content is completely up to you and your group to decide. Please note that this open structure of what you submit for the project enables you to exercise a high degree of flexibility in implementing your results. Thus, creativity is an integral part of the group. Making modeling assumptions is completely valid, and all you need to do is clearly state any assumptions you make and why they are justifiable.\n",
    "\n",
    "Please keep the executive report to 15 pages or less and only include discussions and graphs. Points will be deducted for including code in the executive report.\n"
   ]
  },
  {
   "cell_type": "markdown",
   "metadata": {},
   "source": [
    "# Data Extraction from Blooomberg"
   ]
  },
  {
   "cell_type": "markdown",
   "metadata": {},
   "source": [
    "Data Source: \n",
    "\n",
    "- Bloomberg `SWPM` function\n",
    "- Type `SWPM -CAP USD` in your bloomberg terminal\n",
    "- Go to the cashflow tab. This is a table specifying the cash flow property of cap over its tenor\n",
    "\n",
    "Data for Multiple Caps:\n",
    "\n",
    "- Bloomberg `VCUB` function\n",
    "- Select Cap Vol from view\n",
    "- Select show strikes\n",
    "- You have a matrix of caps with different tenor and moneyness."
   ]
  },
  {
   "cell_type": "markdown",
   "metadata": {},
   "source": [
    "# Data Preprocessing"
   ]
  },
  {
   "cell_type": "code",
   "execution_count": 161,
   "metadata": {},
   "outputs": [],
   "source": [
    "from scipy.stats import norm\n",
    "from math import exp, sqrt, log\n",
    "import pandas as pd\n",
    "import numpy as np\n",
    "from scipy.optimize import minimize\n",
    "import sys\n",
    "import matplotlib.pyplot as plt"
   ]
  },
  {
   "cell_type": "code",
   "execution_count": 23,
   "metadata": {},
   "outputs": [],
   "source": [
    "data_path = '../data/'\n",
    "cap = pd.read_csv(data_path + 'cap.csv')"
   ]
  },
  {
   "cell_type": "code",
   "execution_count": 24,
   "metadata": {},
   "outputs": [
    {
     "data": {
      "text/html": [
       "<div>\n",
       "<style scoped>\n",
       "    .dataframe tbody tr th:only-of-type {\n",
       "        vertical-align: middle;\n",
       "    }\n",
       "\n",
       "    .dataframe tbody tr th {\n",
       "        vertical-align: top;\n",
       "    }\n",
       "\n",
       "    .dataframe thead th {\n",
       "        text-align: right;\n",
       "    }\n",
       "</style>\n",
       "<table border=\"1\" class=\"dataframe\">\n",
       "  <thead>\n",
       "    <tr style=\"text-align: right;\">\n",
       "      <th></th>\n",
       "      <th>CapStrike</th>\n",
       "      <th>CapVols</th>\n",
       "      <th>Days</th>\n",
       "      <th>Discount</th>\n",
       "      <th>Expiry</th>\n",
       "      <th>HedgeRatio</th>\n",
       "      <th>IntrinsicPV</th>\n",
       "      <th>Notional</th>\n",
       "      <th>PV</th>\n",
       "      <th>PayDate</th>\n",
       "      <th>Payment</th>\n",
       "      <th>ResetRate</th>\n",
       "      <th>T_i</th>\n",
       "      <th>T_iM1</th>\n",
       "      <th>TimePV</th>\n",
       "      <th>tau_i</th>\n",
       "    </tr>\n",
       "  </thead>\n",
       "  <tbody>\n",
       "    <tr>\n",
       "      <th>0</th>\n",
       "      <td>2.71212</td>\n",
       "      <td>9.82</td>\n",
       "      <td>92</td>\n",
       "      <td>0.987013</td>\n",
       "      <td>07/16/2019</td>\n",
       "      <td>0.17</td>\n",
       "      <td>0.00</td>\n",
       "      <td>10000000</td>\n",
       "      <td>223.73</td>\n",
       "      <td>10/18/2019</td>\n",
       "      <td>226.67</td>\n",
       "      <td>2.57190</td>\n",
       "      <td>0.513889</td>\n",
       "      <td>0.252778</td>\n",
       "      <td>223.73</td>\n",
       "      <td>0.261111</td>\n",
       "    </tr>\n",
       "    <tr>\n",
       "      <th>1</th>\n",
       "      <td>2.71212</td>\n",
       "      <td>9.52</td>\n",
       "      <td>95</td>\n",
       "      <td>0.980422</td>\n",
       "      <td>10/16/2019</td>\n",
       "      <td>0.20</td>\n",
       "      <td>0.00</td>\n",
       "      <td>10000000</td>\n",
       "      <td>431.15</td>\n",
       "      <td>01/21/2020</td>\n",
       "      <td>439.76</td>\n",
       "      <td>2.54782</td>\n",
       "      <td>0.777778</td>\n",
       "      <td>0.508333</td>\n",
       "      <td>431.15</td>\n",
       "      <td>0.269444</td>\n",
       "    </tr>\n",
       "    <tr>\n",
       "      <th>2</th>\n",
       "      <td>2.71212</td>\n",
       "      <td>9.22</td>\n",
       "      <td>90</td>\n",
       "      <td>0.974283</td>\n",
       "      <td>01/17/2020</td>\n",
       "      <td>0.20</td>\n",
       "      <td>0.00</td>\n",
       "      <td>10000000</td>\n",
       "      <td>491.17</td>\n",
       "      <td>04/20/2020</td>\n",
       "      <td>504.14</td>\n",
       "      <td>2.51966</td>\n",
       "      <td>1.027778</td>\n",
       "      <td>0.766667</td>\n",
       "      <td>491.17</td>\n",
       "      <td>0.261111</td>\n",
       "    </tr>\n",
       "    <tr>\n",
       "      <th>3</th>\n",
       "      <td>2.71212</td>\n",
       "      <td>16.23</td>\n",
       "      <td>91</td>\n",
       "      <td>0.968321</td>\n",
       "      <td>04/16/2020</td>\n",
       "      <td>0.28</td>\n",
       "      <td>0.00</td>\n",
       "      <td>10000000</td>\n",
       "      <td>1547.25</td>\n",
       "      <td>07/20/2020</td>\n",
       "      <td>1597.87</td>\n",
       "      <td>2.43567</td>\n",
       "      <td>1.280556</td>\n",
       "      <td>1.016667</td>\n",
       "      <td>1547.25</td>\n",
       "      <td>0.263889</td>\n",
       "    </tr>\n",
       "    <tr>\n",
       "      <th>4</th>\n",
       "      <td>2.71212</td>\n",
       "      <td>16.72</td>\n",
       "      <td>91</td>\n",
       "      <td>0.962563</td>\n",
       "      <td>07/16/2020</td>\n",
       "      <td>0.26</td>\n",
       "      <td>0.00</td>\n",
       "      <td>10000000</td>\n",
       "      <td>1557.72</td>\n",
       "      <td>10/19/2020</td>\n",
       "      <td>1618.30</td>\n",
       "      <td>2.36663</td>\n",
       "      <td>1.533333</td>\n",
       "      <td>1.269444</td>\n",
       "      <td>1557.72</td>\n",
       "      <td>0.263889</td>\n",
       "    </tr>\n",
       "    <tr>\n",
       "      <th>...</th>\n",
       "      <td>...</td>\n",
       "      <td>...</td>\n",
       "      <td>...</td>\n",
       "      <td>...</td>\n",
       "      <td>...</td>\n",
       "      <td>...</td>\n",
       "      <td>...</td>\n",
       "      <td>...</td>\n",
       "      <td>...</td>\n",
       "      <td>...</td>\n",
       "      <td>...</td>\n",
       "      <td>...</td>\n",
       "      <td>...</td>\n",
       "      <td>...</td>\n",
       "      <td>...</td>\n",
       "      <td>...</td>\n",
       "    </tr>\n",
       "    <tr>\n",
       "      <th>114</th>\n",
       "      <td>2.71212</td>\n",
       "      <td>24.74</td>\n",
       "      <td>90</td>\n",
       "      <td>0.448040</td>\n",
       "      <td>01/17/2048</td>\n",
       "      <td>0.34</td>\n",
       "      <td>241.19</td>\n",
       "      <td>10000000</td>\n",
       "      <td>15154.69</td>\n",
       "      <td>04/20/2048</td>\n",
       "      <td>33824.44</td>\n",
       "      <td>2.73365</td>\n",
       "      <td>29.436111</td>\n",
       "      <td>29.175000</td>\n",
       "      <td>14913.50</td>\n",
       "      <td>0.261111</td>\n",
       "    </tr>\n",
       "    <tr>\n",
       "      <th>115</th>\n",
       "      <td>2.71212</td>\n",
       "      <td>24.78</td>\n",
       "      <td>91</td>\n",
       "      <td>0.444970</td>\n",
       "      <td>04/16/2048</td>\n",
       "      <td>0.33</td>\n",
       "      <td>195.30</td>\n",
       "      <td>10000000</td>\n",
       "      <td>15259.08</td>\n",
       "      <td>07/20/2048</td>\n",
       "      <td>34292.41</td>\n",
       "      <td>2.72948</td>\n",
       "      <td>29.688889</td>\n",
       "      <td>29.425000</td>\n",
       "      <td>15063.78</td>\n",
       "      <td>0.263889</td>\n",
       "    </tr>\n",
       "    <tr>\n",
       "      <th>116</th>\n",
       "      <td>2.71212</td>\n",
       "      <td>24.82</td>\n",
       "      <td>91</td>\n",
       "      <td>0.441925</td>\n",
       "      <td>07/16/2048</td>\n",
       "      <td>0.33</td>\n",
       "      <td>147.29</td>\n",
       "      <td>10000000</td>\n",
       "      <td>15195.79</td>\n",
       "      <td>10/19/2048</td>\n",
       "      <td>34385.43</td>\n",
       "      <td>2.72530</td>\n",
       "      <td>29.941667</td>\n",
       "      <td>29.677778</td>\n",
       "      <td>15048.50</td>\n",
       "      <td>0.263889</td>\n",
       "    </tr>\n",
       "    <tr>\n",
       "      <th>117</th>\n",
       "      <td>2.71212</td>\n",
       "      <td>24.86</td>\n",
       "      <td>92</td>\n",
       "      <td>0.438873</td>\n",
       "      <td>10/15/2048</td>\n",
       "      <td>0.32</td>\n",
       "      <td>99.67</td>\n",
       "      <td>10000000</td>\n",
       "      <td>15297.01</td>\n",
       "      <td>01/19/2049</td>\n",
       "      <td>34855.17</td>\n",
       "      <td>2.72100</td>\n",
       "      <td>30.197222</td>\n",
       "      <td>29.930556</td>\n",
       "      <td>15197.34</td>\n",
       "      <td>0.266667</td>\n",
       "    </tr>\n",
       "    <tr>\n",
       "      <th>118</th>\n",
       "      <td>2.71212</td>\n",
       "      <td>24.90</td>\n",
       "      <td>91</td>\n",
       "      <td>0.435880</td>\n",
       "      <td>01/15/2049</td>\n",
       "      <td>0.31</td>\n",
       "      <td>48.72</td>\n",
       "      <td>10000000</td>\n",
       "      <td>15066.69</td>\n",
       "      <td>04/20/2049</td>\n",
       "      <td>34566.12</td>\n",
       "      <td>2.71654</td>\n",
       "      <td>30.450000</td>\n",
       "      <td>30.186111</td>\n",
       "      <td>15017.97</td>\n",
       "      <td>0.263889</td>\n",
       "    </tr>\n",
       "  </tbody>\n",
       "</table>\n",
       "<p>119 rows × 16 columns</p>\n",
       "</div>"
      ],
      "text/plain": [
       "     CapStrike  CapVols  Days  Discount      Expiry  HedgeRatio  IntrinsicPV  \\\n",
       "0      2.71212     9.82    92  0.987013  07/16/2019        0.17         0.00   \n",
       "1      2.71212     9.52    95  0.980422  10/16/2019        0.20         0.00   \n",
       "2      2.71212     9.22    90  0.974283  01/17/2020        0.20         0.00   \n",
       "3      2.71212    16.23    91  0.968321  04/16/2020        0.28         0.00   \n",
       "4      2.71212    16.72    91  0.962563  07/16/2020        0.26         0.00   \n",
       "..         ...      ...   ...       ...         ...         ...          ...   \n",
       "114    2.71212    24.74    90  0.448040  01/17/2048        0.34       241.19   \n",
       "115    2.71212    24.78    91  0.444970  04/16/2048        0.33       195.30   \n",
       "116    2.71212    24.82    91  0.441925  07/16/2048        0.33       147.29   \n",
       "117    2.71212    24.86    92  0.438873  10/15/2048        0.32        99.67   \n",
       "118    2.71212    24.90    91  0.435880  01/15/2049        0.31        48.72   \n",
       "\n",
       "     Notional        PV     PayDate   Payment  ResetRate        T_i  \\\n",
       "0    10000000    223.73  10/18/2019    226.67    2.57190   0.513889   \n",
       "1    10000000    431.15  01/21/2020    439.76    2.54782   0.777778   \n",
       "2    10000000    491.17  04/20/2020    504.14    2.51966   1.027778   \n",
       "3    10000000   1547.25  07/20/2020   1597.87    2.43567   1.280556   \n",
       "4    10000000   1557.72  10/19/2020   1618.30    2.36663   1.533333   \n",
       "..        ...       ...         ...       ...        ...        ...   \n",
       "114  10000000  15154.69  04/20/2048  33824.44    2.73365  29.436111   \n",
       "115  10000000  15259.08  07/20/2048  34292.41    2.72948  29.688889   \n",
       "116  10000000  15195.79  10/19/2048  34385.43    2.72530  29.941667   \n",
       "117  10000000  15297.01  01/19/2049  34855.17    2.72100  30.197222   \n",
       "118  10000000  15066.69  04/20/2049  34566.12    2.71654  30.450000   \n",
       "\n",
       "         T_iM1    TimePV     tau_i  \n",
       "0     0.252778    223.73  0.261111  \n",
       "1     0.508333    431.15  0.269444  \n",
       "2     0.766667    491.17  0.261111  \n",
       "3     1.016667   1547.25  0.263889  \n",
       "4     1.269444   1557.72  0.263889  \n",
       "..         ...       ...       ...  \n",
       "114  29.175000  14913.50  0.261111  \n",
       "115  29.425000  15063.78  0.263889  \n",
       "116  29.677778  15048.50  0.263889  \n",
       "117  29.930556  15197.34  0.266667  \n",
       "118  30.186111  15017.97  0.263889  \n",
       "\n",
       "[119 rows x 16 columns]"
      ]
     },
     "execution_count": 24,
     "metadata": {},
     "output_type": "execute_result"
    }
   ],
   "source": [
    "cap"
   ]
  },
  {
   "cell_type": "markdown",
   "metadata": {},
   "source": [
    "Price Data\n",
    "\n",
    "- `CapStrike`: Caplet Strike Price $K$\n",
    "- `CapVols`(%): implied volatility of the cap, $\\sigma$ in Black pricing model\n",
    "- `IntrinsicPV`: $K - K_{ATM}$\n",
    "- `Discount`: Zero-coupon Bond $P(t, S)$\n",
    "- `HedgeRatio`: ratio of hedging value of cap to overall value students should not need to use it\n",
    "- `IntrinsicPV`: time $t$ (current) value of payment if current Libor rate = rate at $T$ (no need to use it)\n",
    "- `Notional`: Notional Price $N$, a factor to scale payment of cap by\n",
    "\n",
    "Time Data\n",
    "\n",
    "- `PayDate`: Date of Payoff $S$\n",
    "  - `T_i`: Conversion of the Amount of Time between PayDate($S_i$) and Today($t=0$) (according to the Time Convention)\n",
    "- `Expiry`: Date of Expiry $T$\n",
    "  - `T_iM1`: Conversion of the Amount of Time between Expiry Date($T_i$) and Today($t=0$) (according to the Time Convention) $T_i - t$\n",
    "  - actually it's last term's PayDate, so $S_{i-1} = T_i$\n",
    "- `Days`: Number of Days between expiry date $T$ and pay date $S$\n",
    "- `tau_i`: $\\tau_i = S_i - T_i$\n",
    "- `T_i` - `T_iM1` = `tau_i`\n",
    "\n",
    "Today($t=0$): 20190416"
   ]
  },
  {
   "cell_type": "code",
   "execution_count": 162,
   "metadata": {},
   "outputs": [],
   "source": [
    "zero_curve = cap['Discount']\n",
    "market_implied_vol_data = cap['CapVols']\n",
    "\n",
    "number_of_caplets = len(cap)\n",
    "vol_market = market_implied_vol_data / 100\n",
    "\n",
    "# Maturities of ZCB that can be observed in the market\n",
    "tm = np.array(cap[\"T_i\"])\n",
    "\n",
    "# Discount rates of ZCB corresponding to above maturities\n",
    "ds = zero_curve"
   ]
  },
  {
   "cell_type": "code",
   "execution_count": 163,
   "metadata": {},
   "outputs": [
    {
     "data": {
      "image/png": "[encoded data removed]",
      "text/plain": [
       "<Figure size 640x480 with 2 Axes>"
      ]
     },
     "metadata": {},
     "output_type": "display_data"
    }
   ],
   "source": [
    "# Creating the plots\n",
    "fig, ax1 = plt.subplots()\n",
    "\n",
    "color = 'tab:red'\n",
    "ax1.set_xlabel('Maturity (Years)')\n",
    "ax1.set_ylabel('Discount Factor', color=color)\n",
    "ax1.plot(tm, ds, color=color)\n",
    "ax1.tick_params(axis='y', labelcolor=color)\n",
    "\n",
    "ax2 = ax1.twinx()  # instantiate a second axes that shares the same x-axis\n",
    "\n",
    "color = 'tab:blue'\n",
    "# we already handled the x-label with ax1\n",
    "ax2.set_ylabel('Volatility', color=color)\n",
    "ax2.plot(tm, vol_market, color=color)\n",
    "ax2.tick_params(axis='y', labelcolor=color)\n",
    "\n",
    "fig.tight_layout()  # otherwise the right y-label is slightly clipped\n",
    "plt.title('Discount Factors and Market Implied Volatilities')\n",
    "plt.show()"
   ]
  },
  {
   "cell_type": "code",
   "execution_count": null,
   "metadata": {},
   "outputs": [],
   "source": [
    "# Initialize the cap data list\n",
    "cap_data = []\n",
    "\n",
    "tm = np.append(0, tm)\n",
    "ds = np.append(1, ds)"
   ]
  },
  {
   "cell_type": "code",
   "execution_count": 26,
   "metadata": {},
   "outputs": [
    {
     "data": {
      "text/plain": [
       "(120, 120)"
      ]
     },
     "execution_count": 26,
     "metadata": {},
     "output_type": "execute_result"
    }
   ],
   "source": [
    "len(tm), len(ds)"
   ]
  },
  {
   "cell_type": "markdown",
   "metadata": {},
   "source": [
    "# Functions"
   ]
  },
  {
   "cell_type": "markdown",
   "metadata": {},
   "source": [
    "## Function 1.X"
   ]
  },
  {
   "cell_type": "markdown",
   "metadata": {},
   "source": [
    "### Function 1.1 Black Cap Pricing"
   ]
  },
  {
   "cell_type": "markdown",
   "metadata": {},
   "source": [
    "**Definition 1.2.1. Zero-coupon bond**. \n",
    "\n",
    "A T-maturity zero-coupon bond (pure discount bond) is a contract that guarantees its holder the payment of one unit of currency at time $T$, with no intermediate payments. The contract value at time $t<T$ is denoted by $P(t, T)$. Clearly, $P(T, T)=1$ for all $T$"
   ]
  },
  {
   "cell_type": "markdown",
   "metadata": {},
   "source": [
    "**Definition 1.4.1. Simply-compounded forward interest rate.**\n",
    "\n",
    "The simply-compounded forward interest rate prevailing at time $t$ for the expiry $T>t$ and maturity $S>T$ is denoted by $F(t  T, S)$ and is defined by\n",
    "$$\n",
    "F(t;T, S):=\\frac{1}{\\tau(T, S)}\\left(\\frac{P(t, T)}{P(t, S)}-1\\right)\n",
    "$$"
   ]
  },
  {
   "cell_type": "markdown",
   "metadata": {},
   "source": [
    "It is market practice to price a cap with the following sum of Black's formulas (at time zero)\n",
    "$$\n",
    "\\mathbf{C a p}^{\\text {Black }}\\left(0, \\mathcal{T}, \\tau, N, K, \\sigma_{\\alpha, \\beta}\\right)=N \\sum_{i=\\alpha+1}^\\beta P\\left(0, T_i\\right) \\tau_i \\operatorname{Bl}\\left(K, F\\left(0, T_{i-1}, T_i\\right), v_i, 1\\right)\n",
    "$$\n",
    "\n",
    "where, denoting by $\\Phi$ the standard Gaussian cumulative distribution function,\n",
    "$$\n",
    "\\operatorname{Bl}(K, F, v, \\omega), \n",
    "=F \\omega \\Phi\\left(\\omega d_1(K, F, v)\\right)-K \\omega \\Phi\\left(\\omega d_2(K, F, v)\\right)\n",
    "$$\n",
    "\n",
    "$$\n",
    "\\begin{aligned}\n",
    "d_1(K, F, v) & =\\frac{\\ln (F / K)+v^2 / 2}{v} \\\\\n",
    "d_2(K, F, v) & =\\frac{\\ln (F / K)-v^2 / 2}{v} \\\\\n",
    "v_i & =\\sigma_{\\alpha, \\beta} \\sqrt{T_{i-1}}\n",
    "\\end{aligned}\n",
    "$$"
   ]
  },
  {
   "cell_type": "code",
   "execution_count": 27,
   "metadata": {},
   "outputs": [
    {
     "data": {
      "text/plain": [
       "1728326.7099997392"
      ]
     },
     "execution_count": 27,
     "metadata": {},
     "output_type": "execute_result"
    }
   ],
   "source": [
    "def Black_Cap_Pricing(sigma_input=None, input_cap=None, omega=1):\n",
    "    \"\"\"Convert Bloomberg Market Implied Vol into Dollar Price - Formula 1.26\n",
    "\n",
    "    Args:\n",
    "        cap (dataframe): cap data (default: cap\n",
    "\n",
    "    Returns:\n",
    "        float: Black Cap Price\n",
    "    \"\"\"\n",
    "    result_cap = 0\n",
    "    N = cap['Notional'][0]\n",
    "    for i in range(1, len(input_cap)):\n",
    "        # zero-coupon bond price at time t\n",
    "        # T is the expiry time, T_i = S_i-1\n",
    "        P_t_T = input_cap['Discount'][i - 1]\n",
    "        P_t_S = input_cap['Discount'][i]  # S is the maturity time, S_i\n",
    "\n",
    "        tau_i = input_cap['tau_i'][i]\n",
    "        # simply-compounded forward rate\n",
    "        F_t_T_S = (P_t_T / P_t_S - 1) / tau_i\n",
    "        # strike price\n",
    "        K = input_cap['CapStrike'][i] / 100\n",
    "        # volatility\n",
    "        if sigma_input is None:\n",
    "            sigma = input_cap['CapVols'][i] / 100\n",
    "        else:\n",
    "            sigma = sigma_input\n",
    "        v = sigma * sqrt(input_cap['T_iM1'][i])\n",
    "        temp = max(F_t_T_S / K, sys.float_info.min)\n",
    "        d1 = log(temp)\n",
    "        d1 += 0.5 * v ** 2\n",
    "        d1 /= v\n",
    "        d2 = d1 - v\n",
    "        Bl = F_t_T_S * omega * \\\n",
    "            norm.cdf(omega * d1) - K * omega * norm.cdf(omega * d2)\n",
    "        result_cap += Bl * tau_i * P_t_S\n",
    "\n",
    "    return result_cap * N\n",
    "\n",
    "\n",
    "Black_Cap_Pricing(input_cap=cap)"
   ]
  },
  {
   "cell_type": "markdown",
   "metadata": {},
   "source": [
    "### Function 1.2 Caplets price"
   ]
  },
  {
   "cell_type": "markdown",
   "metadata": {},
   "source": [
    "Caplet\n",
    "\n",
    "$$\n",
    "\\mathbf{C p l}\\left(t, t_{i-1}, t_i, \\tau_i, N, X\\right)=N_i^{\\prime} \\mathbf{Z B P}\\left(t, t_{i-1}, t_i, X_i^{\\prime}\\right)\n",
    "$$\n",
    "where\n",
    "$$\n",
    "\\begin{aligned}\n",
    "X_i^{\\prime}, =\\frac{1}{1+X \\tau_i} \\\\\n",
    "N_i^{\\prime}, =N\\left(1+X \\tau_i\\right)\n",
    "\\end{aligned}\n",
    "$$"
   ]
  },
  {
   "cell_type": "code",
   "execution_count": 28,
   "metadata": {},
   "outputs": [],
   "source": [
    "def HW_Caplets(a, sigma, r_t, fM_0_t, N, tau, t, T, S, P_t_T, P_t_S, X):\n",
    "    \"\"\"\n",
    "    HW model, Caplets price, based on ZB put Pricing - Formula 2.27\n",
    "\n",
    "    Args: \n",
    "        a (float): mean reversion rate\n",
    "        sigma (float): volatility\n",
    "        r_t (float): short rate\n",
    "        fM_0_t (float): forward rate\n",
    "        N (float): Notional\n",
    "        tau (float): time to payment\n",
    "        t (float): current time\n",
    "        T (float): expiry time\n",
    "        S (float): maturity time\n",
    "        P_t_T (float): zero-coupon bond price at time t\n",
    "        P_t_S (float): zero-coupon bond price at time t\n",
    "        X (float): strike price\n",
    "        cap (pd.DataFrame): cap data\n",
    "        \n",
    "    Returns:\n",
    "        float: Caplets price\n",
    "    \"\"\"\n",
    "    X_prime = 1 / (1 + X * tau)\n",
    "    N_prime = N * (1 + X * tau)\n",
    "    return N_prime * HW_ZBPut_CF(a, sigma, r_t, fM_0_t, t, T, S, P_t_T, P_t_S, X_prime)"
   ]
  },
  {
   "cell_type": "markdown",
   "metadata": {},
   "source": [
    "### Function 1.3 Converted the optimized HW Cap prices into Black Implied Vols"
   ]
  },
  {
   "cell_type": "markdown",
   "metadata": {},
   "source": [
    "Converted the optimized HW Cap prices into Black Implied Vols"
   ]
  },
  {
   "cell_type": "code",
   "execution_count": 157,
   "metadata": {},
   "outputs": [],
   "source": [
    "def Price_to_Vol(price, cap=cap, tol=1e-6):\n",
    "    \"\"\"\n",
    "    Converted the optimized HW Cap prices into Black Implied Vols\n",
    "\n",
    "    Args:\n",
    "        price (float): Option Price\n",
    "\n",
    "    Returns:\n",
    "        float: Implied Volatility\n",
    "    \"\"\"\n",
    "    # initial guess\n",
    "    sigma = 0.017\n",
    "\n",
    "    def Black_Cap_Pricing_error(sigma, cap):\n",
    "        pricing = Black_Cap_Pricing(sigma_input=sigma, input_cap=cap)\n",
    "        result = (pricing - price) / pricing\n",
    "        return result ** 2\n",
    "    # Black_Cap_Pricing(sigma_input=sigma, input_cap=cap)\n",
    "    sigma = minimize(fun=Black_Cap_Pricing_error, method='Nelder-Mead',\n",
    "                     x0=sigma, args=(cap), tol=tol).x\n",
    "    # print(Black_Cap_Pricing_error(sigma, cap))\n",
    "    return sigma"
   ]
  },
  {
   "cell_type": "markdown",
   "metadata": {},
   "source": [
    "## Function 2.X"
   ]
  },
  {
   "cell_type": "markdown",
   "metadata": {},
   "source": [
    "### Function 2.1 HW_Cap\n"
   ]
  },
  {
   "cell_type": "markdown",
   "metadata": {},
   "source": [
    "Through formulas $(3.40)$ and (3.41), we can also price caps and floors since they can be viewed as portfolios of zero-bond options. To this end, we denote by $D=\\left\\{d_1, d_2, \\ldots, d_n\\right\\}$ the set of the cap/floor payment dates and by $\\mathcal{T}=$ $\\left\\{t_0, t_1, \\ldots, t_n\\right\\}$ the set of the corresponding times, meaning that $t_i$ is the difference in years between $d_i$ and the settlement date $t$, and where $t_0$ is the first reset time. Moreover, we denote by $\\tau_i$ the year fraction from $d_{i-1}$ to $d_i$, $i=1, \\ldots, n$. Applying formula (2.26), we then obtain that the price at time $t<t_0$ of the cap with cap rate (strike) $X$, nominal value $N$ and set of times $\\mathcal{T}$ is given by\n",
    "$$\n",
    "\\mathbf{C a p}(t, \\mathcal{T}, N, X)=N \\sum_{i=1}^n\\left(1+X \\tau_i\\right) \\mathbf{Z B P}\\left(t, t_{i-1}, t_i, \\frac{1}{1+X \\tau_i}\\right)\n",
    "$$\n",
    "or, more explicitly,\n",
    "\n",
    "$$\n",
    "\\mathbf{C a p}(t, \\mathcal{T}, N, X)=N \\sum_{i=1}^n\\left[P\\left(t, t_{i-1}\\right) \\Phi\\left(-h_i+\\sigma_p^i\\right)-\\left(1+X \\tau_i\\right) P\\left(t, t_i\\right) \\Phi\\left(-h_i\\right)\\right]\n",
    "$$\n",
    "where\n",
    "3.3 The Hull-White Extended Vasicek Model\n",
    "77\n",
    "$$\n",
    "\\begin{aligned}\n",
    "\\sigma_p^i & =\\sigma \\sqrt{\\frac{1-e^{-2 a\\left(t_{i-1}-t\\right)}}{2 a}} B\\left(t_{i-1}, t_i\\right), \\\\\n",
    "h_i & =\\frac{1}{\\sigma_p^i} \\ln \\frac{P\\left(t, t_i\\right)\\left(1+X \\tau_i\\right)}{P\\left(t, t_{i-1}\\right)}+\\frac{\\sigma_p^i}{2} .\n",
    "\\end{aligned}\n",
    "$$"
   ]
  },
  {
   "cell_type": "code",
   "execution_count": 30,
   "metadata": {},
   "outputs": [],
   "source": [
    "def HW_Cap(a, sigma, r_t, fM_0_t, t=0, cap=cap):\n",
    "    \"\"\"\n",
    "    HW model, Cap price, based on Caplets price - Formula 3.42\n",
    "\n",
    "    Args:\n",
    "        a (float): mean reversion rate\n",
    "        sigma (float): volatility\n",
    "        r_t (float): short rate\n",
    "        f_0_t (float): forward rate\n",
    "        t (float): current time\n",
    "        cap (pd.DataFrame): cap data\n",
    "\n",
    "    Returns:\n",
    "        float: Cap price\n",
    "    \"\"\"\n",
    "    result = 0\n",
    "    for i in range(1, len(cap)):\n",
    "        result += HW_Caplets(a, sigma, r_t, fM_0_t,\n",
    "                             N=cap['Notional'][0],\n",
    "                             tau=cap['tau_i'][i],\n",
    "                             t=t,\n",
    "                             T=cap['T_iM1'][i],\n",
    "                             S=cap['T_i'][i],\n",
    "                             P_t_T=cap['Discount'][i - 1],\n",
    "                             P_t_S=cap['Discount'][i],\n",
    "                             X=cap['CapStrike'][i])\n",
    "    return result"
   ]
  },
  {
   "cell_type": "markdown",
   "metadata": {},
   "source": [
    "### Function 2.2"
   ]
  },
  {
   "cell_type": "markdown",
   "metadata": {},
   "source": [
    "Bond and Option Pricing\n",
    "$$\n",
    "P(t, T)=A(t, T) e^{-B(t, T) r(t)},\n",
    "$$\n",
    "where\n",
    "$$\n",
    "A(t, T)=\\frac{P^M(0, T)}{P^M(0, t)} \\exp \\left\\{B(t, T) f^M(0, t)-\\frac{\\sigma^2}{4 a}\\left(1-e^{-2 a t}\\right) B(t, T)^2\\right\\} .\n",
    "$$\n",
    "$$\n",
    "B(t, T)=\\frac{1}{a}\\left[1-e^{-a(T-t)}\\right]\n",
    "$$\n"
   ]
  },
  {
   "cell_type": "code",
   "execution_count": 31,
   "metadata": {},
   "outputs": [],
   "source": [
    "def B(a, t, T):\n",
    "    \"\"\"\n",
    "    Calculates the B(a, t, T) function for the Hull-White model.\n",
    "\n",
    "    Args:\n",
    "        a (float): mean reversion rate\n",
    "        t (float): current time\n",
    "        T (float): expiry time\n",
    "\n",
    "    Returns:\n",
    "        float: B(a, t, T) function\n",
    "    \"\"\"\n",
    "    return (1 - np.exp(-a * (T - t))) / a\n",
    "\n",
    "\n",
    "def HW_ZBPrice_CF(a, sigma, r_t, T, t=0, fM_0_t=None, PM_0_T=None, times=None, discounts=None):\n",
    "    \"\"\"\n",
    "    HW model, Analytical Solution for Zero Coupon Bond - Formula 3.39\n",
    "\n",
    "    Args:\n",
    "        a (float): mean reversion rate\n",
    "        sigma (float): volatility\n",
    "        r_t (float): short rate\n",
    "        f_0_t (float): forward rate\n",
    "        t (float): current time\n",
    "        T (float): expiry time\n",
    "        P_M (float): zero-coupon bond price at time M\n",
    "        time (float): time to payment\n",
    "        discount (float): discount rate\n",
    "\n",
    "    Returns:\n",
    "        float: Zero Coupon Bond price\n",
    "    \"\"\"\n",
    "    B_t_T = B(a, t, T)\n",
    "\n",
    "    if fM_0_t is None:\n",
    "        fM_0_t = fM(t, times, discounts)\n",
    "    if PM_0_T is None:\n",
    "        PM_0_T = PM(T, times, discounts)\n",
    "        PM_0_t = PM(t, times, discounts)\n",
    "    else:\n",
    "        PM_0_t = 1\n",
    "\n",
    "    A_t_T = PM_0_T / PM_0_t * \\\n",
    "        np.exp(B_t_T * fM_0_t - (sigma ** 2 / (4 * a))\n",
    "               * (1 - exp(- 2 * a * t)) * B_t_T ** 2)\n",
    "\n",
    "    result = A_t_T * np.exp(-B_t_T * r_t)\n",
    "    return result"
   ]
  },
  {
   "cell_type": "markdown",
   "metadata": {},
   "source": [
    "### Function 2.3"
   ]
  },
  {
   "cell_type": "markdown",
   "metadata": {},
   "source": [
    "Definition 1.2.3. Continuously-compounded spot interest rate. The continuously-compounded spot interest rate prevailing at time $t$ for the maturity $T$ is denoted by $R(t, T)$ and is the constant rate at which an investment of $P(t, T)$ units of currency at time $t$ accrues continuously to yield a unit amount of currency at maturity $T$. In formulas:\n",
    "$$\n",
    "R(t, T):=-\\frac{\\ln P(t, T)}{\\tau(t, T)}\n",
    "$$\n",
    "\n",
    "The continuously-compounded interest rate is therefore a constant rate that is consistent with the zero-coupon-bond prices in that\n",
    "$$\n",
    "e^{R(t, T) \\tau(t, T)} P(t, T)=1,\n",
    "$$\n",
    "from which we can express the bond price in terms of the continuouslycompounded rate $R$ :\n",
    "$$\n",
    "P(t, T)=e^{-R(t, T) \\tau(t, T)} .\n",
    "$$"
   ]
  },
  {
   "cell_type": "markdown",
   "metadata": {},
   "source": [
    "A classic problem with the above models is their endogenous nature. If we have the initial zero-coupon bond curve $T \\mapsto P^M(0, T)$ from the market, and we wish our model to incorporate this curve, we need forcing the model parameters to produce a model curve as close as possible to the market curve. For example, again in the Vasicek case, we need to run an optimization to find the values of $k, \\theta$ and $\\sigma$ such that the model initial curve $T \\mapsto P(0, T  k, \\theta, \\sigma, r(0))$ is as close as possible to the market curve $T \\mapsto P^M(0, T)$. Although the values $P^M(0, T)$ are actually observed only at a finite number of maturities $P^M\\left(0, T_i\\right)$, three parameters are not enough to reproduce satisfactorily a given term structure. Moreover, some shapes of the zero-coupon curve $T \\mapsto L^M(0, T)$ (like an inverted shape) can never be obtained with the Vasicek model, no matter the values of the parameters in the dynamics that are chosen."
   ]
  },
  {
   "cell_type": "code",
   "execution_count": 32,
   "metadata": {},
   "outputs": [],
   "source": [
    "# The PM function needs to be defined or replaced with an equivalent that calculates present value multipliers\n",
    "def PM(period, tm=tm, ds=ds):\n",
    "    # This function should interpolate the discount factors based on the provided period\n",
    "    # Using np.interp for linear interpolation as a simple example\n",
    "    return np.interp(period, tm, ds)"
   ]
  },
  {
   "cell_type": "markdown",
   "metadata": {},
   "source": [
    "Throughout the chapter, we assume that the term structure of discount factors that is currently observed in the market is given by the sufficientlysmooth function $t \\mapsto P^M(0, t)$. We then denote by $f^M(0, t)$ the market instantaneous forward rates at time 0 for a maturity $t$ as associated with the bond prices $\\left\\{P^M(0, t): t \\geq 0\\right\\}$, i.e.,\n",
    "$$\n",
    "f^M(0, t)=-\\frac{\\partial \\ln P^M(0, t)}{\\partial t} .\n",
    "$$"
   ]
  },
  {
   "cell_type": "code",
   "execution_count": 33,
   "metadata": {},
   "outputs": [],
   "source": [
    "def fM(t, times=tm, discounts=ds, delta=0.001):\n",
    "    \"\"\"interpolate a continuous instantaneous forward rate based on the ZCB discount curve \n",
    "\n",
    "    Args:\n",
    "        t (float): input time\n",
    "        times (float): market observable ZCB maturities (S)\n",
    "        discount (float): market observable ZCB discounts (P_t_S)\n",
    "        delta (float): time interval\n",
    "\n",
    "    Returns:\n",
    "        float: the interpolated forward rate\n",
    "    \"\"\"\n",
    "    PMleft = PM(t - delta, tm=times, ds=discounts)\n",
    "    PMright = PM(t + delta, tm=times, ds=discounts)\n",
    "    logPMleft = log(PMleft)\n",
    "    logPMright = log(PMright)\n",
    "    if t == 0:\n",
    "        result = -(logPMright - logPMleft) / (delta)\n",
    "    else:\n",
    "        result = -(logPMright - logPMleft) / (2 * delta)\n",
    "    return result\n",
    "# print(fM(0))\n",
    "# print(fM(1))\n"
   ]
  },
  {
   "cell_type": "markdown",
   "metadata": {},
   "source": [
    "Equation (3.33) can be easily integrated so as to yield\n",
    "$$\n",
    "\\begin{aligned}\n",
    "r(t) & =r(s) e^{-a(t-s)}+\\int_s^t e^{-a(t-u)} \\vartheta(u) d u+\\sigma \\int_s^t e^{-a(t-u)} d W(u) \\\\\n",
    "& =r(s) e^{-a(t-s)}+\\alpha(t)-\\alpha(s) e^{-a(t-s)}+\\sigma \\int_s^t e^{-a(t-u)} d W(u),\n",
    "\\end{aligned}\n",
    "$$\n",
    "where\n",
    "$$\n",
    "\\alpha(t)=f^M(0, t)+\\frac{\\sigma^2}{2 a^2}\\left(1-e^{-a t}\\right)^2 .\n",
    "$$"
   ]
  },
  {
   "cell_type": "code",
   "execution_count": 34,
   "metadata": {},
   "outputs": [],
   "source": [
    "def alpha(t, a, sigma, times, discounts):\n",
    "    \"\"\"alpha function for the r(t) process\n",
    "\n",
    "    Args:\n",
    "        t (float): input time\n",
    "        a (float): mean reversion rate\n",
    "        sigma (float): volatility\n",
    "        times (float): market observable ZCB maturities (S)\n",
    "        discount (float): market observable ZCB discounts (P_t_S)\n",
    "\n",
    "    Returns:\n",
    "        float: alpha function\n",
    "    \"\"\"\n",
    "    result = fM(t, times, discounts) + \\\n",
    "        sigma ** 2/(2*a ** 2) * (1-exp(-a*t)) ** 2\n",
    "    return result\n",
    "\n",
    "\n",
    "def r_t(a, sigma, r_0, t, times, discounts):\n",
    "    \"\"\"r(t) process, set s = 0\n",
    "\n",
    "    Args:\n",
    "        r_s (float): \n",
    "        a (float): \n",
    "        sigma (float): volatility\n",
    "        t (float): \n",
    "        times (np.array): \n",
    "        discounts (np.array): \n",
    "\n",
    "    Returns:\n",
    "        float: _description_\n",
    "    \"\"\"\n",
    "    dW = np.random.normal()\n",
    "    vol = sqrt(sigma ** 2/(2*a)*(1-exp(-2*a*t)))\n",
    "    alpha_t = alpha(t, a, sigma, times, discounts)\n",
    "    alpha_0 = alpha(0, a, sigma, times, discounts)\n",
    "    result = r_0*exp(-a*t) + alpha_t - alpha_0*exp(-a*t) + vol*dW\n",
    "    return result"
   ]
  },
  {
   "cell_type": "markdown",
   "metadata": {},
   "source": [
    "In particular, the zero-coupon-bond price at time $t$ for the maturity $T$ is characterized by a unit amount of currency available at time $T$, so that $H_T=1$ and we obtain\n",
    "$$\n",
    "P(t, T)=E_t\\left\\{e^{-\\int_t^T r(s) d s}\\right\\}\n",
    "$$"
   ]
  },
  {
   "cell_type": "code",
   "execution_count": 35,
   "metadata": {},
   "outputs": [],
   "source": [
    "def HW_ZBPrice_SM(a, sigma, r_s, T, L, M, times, discounts):\n",
    "    \"\"\"HW model, Monte Carlo Simulation for Zero Coupon Bond - Formula 3.2\n",
    "\n",
    "    Args:\n",
    "        a (float): mean reversion rate\n",
    "        sigma (float): volatility\n",
    "        r_s (float): short rate\n",
    "        T (float): expiry time\n",
    "        L (int): number of simulations\n",
    "        M (int): number of time steps\n",
    "        times (np.array): market observable ZCB maturities (S)\n",
    "        discounts (np.array): market observable ZCB discounts (P_t_S)\n",
    "\n",
    "    Returns:\n",
    "        float: Zero Coupon Bond price\n",
    "    \"\"\"\n",
    "    delta_t = T / M\n",
    "    result_sum = 0\n",
    "    for _ in range(0, L):\n",
    "        s = 0\n",
    "        for j in range(0, M):\n",
    "            r = r_t(r_s, a, sigma, j*delta_t, times, discounts)\n",
    "            s = s + r * delta_t\n",
    "        result_sum += np.exp(-s)\n",
    "    result = result_sum / L\n",
    "    return result"
   ]
  },
  {
   "cell_type": "markdown",
   "metadata": {},
   "source": [
    "### Function 2.4"
   ]
  },
  {
   "cell_type": "markdown",
   "metadata": {},
   "source": [
    "As a consequence, the European call-option price is\n",
    "$$\n",
    "\\mathbf{Z B C}(t, T, S, X)=P(t, S) \\Phi(h)-X P(t, T) \\Phi\\left(h-\\sigma_p\\right),\n",
    "$$\n",
    "where\n",
    "$$\n",
    "\\begin{aligned}\n",
    "\\sigma_p & =\\sigma \\sqrt{\\frac{1-e^{-2 a(T-t)}}{2 a}} B(T, S), \\\\\n",
    "h & =\\frac{1}{\\sigma_p} \\ln \\frac{P(t, S)}{P(t, T) X}+\\frac{\\sigma_p}{2} .\n",
    "\\end{aligned}\n",
    "$$\n",
    "\n",
    "Analogously, the price $\\mathbf{Z B P}(t, T, S, X)$ at time $t$ of a European put option with strike $X$, maturity $T$ and written on a pure discount bond maturing at time $S$ is given by\n",
    "$$\n",
    "\\mathbf{Z B P}(t, T, S, X)=X P(t, T) \\Phi\\left(-h+\\sigma_p\\right)-P(t, S) \\Phi(-h) .\n",
    "$$"
   ]
  },
  {
   "cell_type": "code",
   "execution_count": 36,
   "metadata": {},
   "outputs": [],
   "source": [
    "def HW_ZBPut_CF(a, sigma, r_t, fM_0_t, t, T, S, P_t_T, P_t_S, X):\n",
    "    \"\"\"Calculate the price of a European put option on a zero-coupon bond.\n",
    "\n",
    "    Args:\n",
    "        a (float): The speed of mean reversion.\n",
    "        sigma (float): The volatility of the short rate.\n",
    "        r_t (float): The short rate at time t.\n",
    "        fM_0_t (float): The forward rate at time t.\n",
    "        P_t_T (float): The price of a zero-coupon bond with maturity T at time t.\n",
    "        P_t_S (float): The price of a zero-coupon bond with maturity S at time t.\n",
    "        X (float): The strike price of the option.\n",
    "        t (float): The current time.\n",
    "        T (float): The maturity of the option.\n",
    "        S (float): The maturity of the zero-coupon bond.\n",
    "\n",
    "    Returns:\n",
    "        float: The price of the option.\n",
    "    \"\"\"\n",
    "    B_T_S = B(a, T, S)\n",
    "    sigma_p = sigma * sqrt((1 - np.exp(- 2 * a * (T - t))) / (2 * a)) * B_T_S\n",
    "    P_t_S = HW_ZBPrice_CF(a, sigma, r_t, S, t=t, fM_0_t=fM_0_t, PM_0_T=P_t_S)\n",
    "    P_t_T = HW_ZBPrice_CF(a, sigma, r_t, T, t=t, fM_0_t=fM_0_t, PM_0_T=P_t_T)\n",
    "    # h = (1/sigma_p) * log(P_t_S / P_t_T * X) + sigma_p / 2\n",
    "    temp = max(P_t_S / (P_t_T * X), sys.float_info.min)\n",
    "    h = (1 / sigma_p) * log(temp)\n",
    "    h = h + sigma_p / 2\n",
    "    # result = max(X * P_t_T * norm.cdf(-h + sigma_p) - P_t_S * norm.cdf(-h), 0)\n",
    "    result = X * P_t_T * norm.cdf(-h + sigma_p) - P_t_S * norm.cdf(-h)\n",
    "    return result"
   ]
  },
  {
   "cell_type": "markdown",
   "metadata": {},
   "source": [
    "### Function 2.5"
   ]
  },
  {
   "cell_type": "markdown",
   "metadata": {},
   "source": [
    "The particular case of a European call option with maturity $T$, strike $X$ and written on a unit-principal zero-coupon bond with maturity $S>T$ leads to the pricing formula\n",
    "$$\n",
    "\\mathbf{Z B C}(t, T, S, X)=E\\left(e^{-\\int_t^T r_s d s}(P(T, S)-X)^{+} \\mid \\mathcal{F}_t\\right)\n",
    "$$"
   ]
  },
  {
   "cell_type": "code",
   "execution_count": 37,
   "metadata": {},
   "outputs": [],
   "source": [
    "def HW_ZBPut_SM_Q(a, sigma, r_0, t, T, S, X, L, M, time, discounts):\n",
    "\n",
    "    # determine the time step\n",
    "    delta_t = T / L\n",
    "\n",
    "    # initialize the payoff (cumulative payoff)\n",
    "    payoff = 0\n",
    "    # simulate the short rate M times\n",
    "    for _ in range(M):\n",
    "        # initialize the integral of r\n",
    "        Integral_r = 0\n",
    "        # simulate the short rate\n",
    "        for j in range(L):\n",
    "            # simulate the short rate at time t(t = 0 as default) + j * delta_t\n",
    "            r = r_t(a, sigma, r_0, t + j * delta_t, time, discounts)\n",
    "            Integral_r += r * delta_t\n",
    "            # calculate the payoff by Formula 2.23\n",
    "            payoff += np.exp(-Integral_r) * max(0, X - HW_ZBPrice_CF(a,\n",
    "                                                                     sigma, r, S, t=T, times=time, discounts=discounts))\n",
    "\n",
    "    # calculate the result\n",
    "    return payoff / M\n",
    "\n",
    "\n",
    "# HW_ZBPut_SM_Q(a=0.1, sigma=0.02, r_0=0.02, t=0, T=1, S=2,\n",
    "#               X=2, L=10000, M=100, time=tm, discounts=ds)"
   ]
  },
  {
   "cell_type": "markdown",
   "metadata": {},
   "source": [
    "### Function 2.6"
   ]
  },
  {
   "cell_type": "markdown",
   "metadata": {},
   "source": [
    "Similarly, the price $\\mathbf{Z B C}(t, T, S, X)$ at time $t$ of a European call option with strike $X$, maturity $T$ and written on a pure discount bond maturing at time $S$ is given by the expectation (2.23) or, equivalently, by (2.25). To compute the latter expectation, we need to know the distribution of the process $r$ under the $T$-forward measure $Q^T$. Since the process $x$ corresponds to the Vasicek's $r$ with $\\theta=0$, we can use formula (3.9) to get\n",
    "$$\n",
    "d x(t)=\\left[-B(t, T) \\sigma^2-a x(t)\\right] d t+\\sigma d W^T(t),\n",
    "$$\n",
    "where the $Q^T$-Brownian motion $W^T$ is defined by $d W^T(t)=d W(t)+$ $\\sigma B(t, T) d t$, so that, for $s \\leq t \\leq T$,\n",
    "$$\n",
    "x(t)=x(s) e^{-a(t-s)}-M^T(s, t)+\\sigma \\int_s^t e^{-a(t-u)} d W^T(u)\n",
    "$$\n",
    "with\n",
    "${ }^8$ The following formulas can be derived through the same methodology we illustrate in detail in Chapter 4 for the G2++ model\n",
    "76\n",
    "3. One-factor short-rate models\n",
    "$$\n",
    "M^T(s, t)=\\frac{\\sigma^2}{a^2}\\left[1-e^{-a(t-s)}\\right]-\\frac{\\sigma^2}{2 a^2}\\left[e^{-a(T-t)}-e^{-a(T+t-2 s)}\\right] .\n",
    "$$\n",
    "It is then easy to realize that the distribution of the short rate $r(t)$ conditional on $\\mathcal{F}_s$ is, under the measure $Q^T$, still Gaussian with mean and variance given respectively by\n",
    "$$\n",
    "\\begin{aligned}\n",
    "E^T\\left\\{r(t) \\mid \\mathcal{F}_s\\right\\} & =x(s) e^{-a(t-s)}-M^T(s, t)+\\alpha(t), \\\\\n",
    "\\operatorname{Var}^T\\left\\{r(t) \\mid \\mathcal{F}_s\\right\\} & =\\frac{\\sigma^2}{2 a}\\left[1-e^{-2 a(t-s)}\\right] .\n",
    "\\end{aligned}\n",
    "$$"
   ]
  },
  {
   "cell_type": "code",
   "execution_count": 38,
   "metadata": {},
   "outputs": [],
   "source": [
    "# def x_t(x0, a, sigma, t):\n",
    "#     \"\"\"x(t) process, set s = 0\n",
    "\n",
    "#     Args:\n",
    "#         x0 (float): _description_\n",
    "#         a (float): _description_\n",
    "#         sigma (float): volatility\n",
    "#         t (float): target maturity time\n",
    "\n",
    "#     Returns:\n",
    "#         float: x(t) value at time t\n",
    "#     \"\"\"\n",
    "#     T = t\n",
    "#     s = 0\n",
    "#     dW = norm.inv(np.rand())\n",
    "#     MT_0_t = sigma ^ 2/(a ^ 2) * (1 - exp(- a * (t - s))) - sigma ^ 2 / \\\n",
    "#         (2 * a ^ 2) * (exp(-a * (T - t))-exp(-a * (T + t - 2 * s)))\n",
    "#     vol = sqrt(sigma ^ 2 / (2 * a) * (1 - exp(- 2 * a * t)))\n",
    "#     result = x0 * exp(- a * t) - MT_0_t + vol * dW\n",
    "#     return result"
   ]
  },
  {
   "cell_type": "markdown",
   "metadata": {},
   "source": [
    "In the case of the above call option, we then have\n",
    "$$\n",
    "\\mathbf{Z B C}(t, T, S, X)=P(t, T) E^T\\left((P(T, S)-X)^{+} \\mid \\mathcal{F}_t\\right)\n",
    "$$"
   ]
  },
  {
   "cell_type": "code",
   "execution_count": 65,
   "metadata": {},
   "outputs": [],
   "source": [
    "def HW_ZBPut_SM_T(a, sigma, r0, t, T, S, X, M, time, discounts):\n",
    "    \"\"\"\n",
    "    Calculate the price of a European put option on a zero-coupon bond using Monte Carlo simulation under T measure.\n",
    "\n",
    "    Parameters:\n",
    "    a (float): Mean reversion parameter of the Hull-White model.\n",
    "    sigma (float): Volatility parameter of the Hull-White model.\n",
    "    r0 (float): Initial short rate.\n",
    "    t (float): Time at which the option is priced.\n",
    "    T (float): Time to maturity of the option.\n",
    "    S (float): Time at which the bond price is observed.\n",
    "    X (float): Strike price of the option.\n",
    "    M (int): Number of Monte Carlo simulations.\n",
    "    discounts (array): List of discount factors.\n",
    "\n",
    "    Returns:\n",
    "    float: The price of the European put option.\n",
    "\n",
    "    \"\"\"\n",
    "    payoff = 0\n",
    "    # Calculate the zero-coupon bond prices\n",
    "    P_0_t = HW_ZBPrice_CF(a, sigma, r0, t, t=0,\n",
    "                          times=time, discounts=discounts)\n",
    "    P_0_T = HW_ZBPrice_CF(a, sigma, r0, T, t=0,\n",
    "                          times=time, discounts=discounts)\n",
    "    P_t_T = P_0_T / P_0_t\n",
    "\n",
    "    # do the monte carlo process\n",
    "    for i in range(M):\n",
    "        r = r_t(a, sigma, r0, T, time, discounts)\n",
    "        payoff += P_t_T * max(0, X - HW_ZBPrice_CF(a, sigma,\n",
    "                                                r, S, t=T, times=time, discounts=discounts))\n",
    "\n",
    "    # Calculate the result\n",
    "    result = payoff / M\n",
    "    return result\n",
    "\n",
    "\n",
    "# HW_ZBPut_SM_T(a=0.1, sigma=0.02, r0=0.02, t=0, T=1,\n",
    "#               S=2, X=2, M=10000, time=tm, discounts=ds)"
   ]
  },
  {
   "cell_type": "markdown",
   "metadata": {},
   "source": [
    "## Funciton 3.X"
   ]
  },
  {
   "cell_type": "markdown",
   "metadata": {},
   "source": [
    "### Function 3.1"
   ]
  },
  {
   "cell_type": "code",
   "execution_count": 44,
   "metadata": {},
   "outputs": [],
   "source": [
    "def HW_Cap_Optimizer(input_para, fM_0_t, cap_market_value, cap_data):\n",
    "    \"\"\"This function returns value of loss function between actual market cap prices and model cap prices, and is used for optimization\n",
    "\n",
    "    Args:\n",
    "        a (float): The speed of mean reversion.\n",
    "        sigma (float): The volatility of the short rate.\n",
    "        r0 (float): The short rate at time 0\n",
    "        fM_0_t (float):  The forward rate at time t\n",
    "        cap_data (list): All cap data\n",
    "        cap_market_value (np.array): the market price\n",
    "\n",
    "    Returns:\n",
    "        float: loss function value\n",
    "    \"\"\"\n",
    "    n = len(cap_data)\n",
    "    cap_model_value = np.zeros(n)\n",
    "    \n",
    "    a = input_para[0]\n",
    "    sigma = input_para[1]\n",
    "    r_0 = input_para[2]\n",
    "    \n",
    "    # fM_0_t = r_0 \n",
    "   \n",
    "    for i in range(n):\n",
    "        this_cap = cap_data[i]\n",
    "        cap_model_value[i] = HW_Cap(a, sigma, r_0, fM_0_t, cap=this_cap)\n",
    "    \n",
    "    cap_diff = (cap_market_value - cap_model_value) / cap_market_value\n",
    "    cap_sqrt_diff = cap_diff * cap_diff\n",
    "    \n",
    "    return 0.5 * sum(cap_sqrt_diff)"
   ]
  },
  {
   "cell_type": "markdown",
   "metadata": {},
   "source": [
    "### Function 3.2"
   ]
  },
  {
   "cell_type": "code",
   "execution_count": 186,
   "metadata": {},
   "outputs": [],
   "source": [
    "cap_data = []\n",
    "# Iterate over each row in the market implied volatility data to construct cap data\n",
    "for i in range(0, number_of_caplets):\n",
    "    start = cap['T_iM1'][i]\n",
    "    end = cap['T_i'][i]\n",
    "    interval = cap['tau_i'][i] / 2\n",
    "    n = 1 + int((end - start) / interval)\n",
    "\n",
    "    capp = np.zeros((n, 7))\n",
    "    capp[:, 0] = np.arange(start, end, interval)\n",
    "    # First column is the new T_i\n",
    "    capp[:, 1] = PM(capp[:, 0])\n",
    "    # Second column is the discount factor\n",
    "    capp[:, 2] = np.array([cap['CapStrike'][i] / 100] * n)\n",
    "    # Third column is the strike price\n",
    "    capp[:, 3] = np.array([cap['CapVols'][i] / 100] * n)\n",
    "    # Fourth column is the volatility\n",
    "    capp[:, 4] = np.array([interval] * n)\n",
    "    # Fifth column is tau_i\n",
    "    capp[:, 5] = np.array(capp[:, 0] - interval)\n",
    "    capp[:, 6] = np.array([cap['Notional'][0]] * n)\n",
    "\n",
    "    this_df = pd.DataFrame(\n",
    "        capp, columns=['T_i', 'Discount', 'CapStrike', 'CapVols', 'tau_i', 'T_iM1', 'Notional'])\n",
    "\n",
    "    cap_data.append(this_df)"
   ]
  },
  {
   "cell_type": "code",
   "execution_count": 187,
   "metadata": {},
   "outputs": [
    {
     "name": "stdout",
     "output_type": "stream",
     "text": [
      "        T_i  Discount  CapStrike  CapVols     tau_i     T_iM1    Notional\n",
      "0  1.016667  0.974556   0.027121   0.1623  0.131944  0.884722  10000000.0\n",
      "1  1.148611  0.971433   0.027121   0.1623  0.131944  1.016667  10000000.0\n",
      "2  1.280556  0.968321   0.027121   0.1623  0.131944  1.148611  10000000.0\n",
      "119\n"
     ]
    }
   ],
   "source": [
    "print(cap_data[3])\n",
    "print(len(cap_data))"
   ]
  },
  {
   "cell_type": "code",
   "execution_count": 188,
   "metadata": {},
   "outputs": [],
   "source": [
    "cap_market_value = []\n",
    "for i in range(0, number_of_caplets):\n",
    "    cap_market_value.append(Black_Cap_Pricing(input_cap=cap_data[i]))\n"
   ]
  },
  {
   "cell_type": "code",
   "execution_count": 189,
   "metadata": {},
   "outputs": [
    {
     "data": {
      "text/plain": [
       "array([32643.34787468, 66596.31179455, 63474.06993838, 61654.30508021,\n",
       "       59510.67907247, 59077.89248474, 28806.06190298, 57521.68743956,\n",
       "       28273.89617375, 56068.62552499, 54496.38013109, 57001.94788984,\n",
       "       28312.62169833, 56043.76311406, 53190.67411095, 57012.69896294,\n",
       "       28731.0830484 , 27991.46157379, 55112.74715405, 28337.29763175,\n",
       "       28607.72775218, 58884.52693599, 57505.52878915, 28479.05812242,\n",
       "       29392.13148512, 58641.78654997, 28638.87922899, 59443.57221834,\n",
       "       29714.66871482, 59950.42763297, 29293.34812156, 57044.99442676,\n",
       "       56754.01231118, 57133.12521506, 56303.80699419, 60172.97915512,\n",
       "       29785.22310675, 58150.23779632, 56742.20281166, 56216.46582315,\n",
       "       28291.64304101, 28176.33576912, 54918.87797905, 27926.66518497,\n",
       "       28116.1216137 , 57759.92901605, 53943.20609276, 26761.69067403,\n",
       "       27452.5231526 , 54592.39780695, 26587.56479461, 53439.34803835,\n",
       "       53120.68705942, 53375.52533606, 52501.60346594, 52751.82718493,\n",
       "       26215.01578303, 52086.9074187 , 49601.72372329, 49831.50263597,\n",
       "       24991.2717159 , 24301.82069119, 47233.7064287 , 47424.84240871,\n",
       "       23801.37270118, 23634.34220107, 46433.19421385, 23052.86995433,\n",
       "       23623.82479348, 46890.692222  , 22800.60324231, 45742.64672252,\n",
       "       45401.75257252, 45525.88200956, 22133.09535799, 44397.76219488,\n",
       "       44056.96548028, 22092.51051245, 21470.61608041, 42072.89883117,\n",
       "       42144.34071486, 41803.50676045, 20085.97704715, 39861.34380525,\n",
       "       19984.82273931, 19822.67748452, 38493.09016387, 38595.01362648,\n",
       "       19351.39706791, 19808.33528375, 36855.33296398, 18686.9808442 ,\n",
       "       38262.88252586, 37943.90211825, 18431.44599379, 36946.26596441,\n",
       "       36646.24615563, 18367.29081509, 36035.52741922, 36657.26463315,\n",
       "       36385.12482384, 36084.97876967, 17148.14647603, 35118.45201554,\n",
       "       17603.17290222, 17083.75007964, 33164.99039648, 33237.8016871 ,\n",
       "       16662.81645633, 16526.02387931, 32060.11385591, 32152.63886046,\n",
       "       16110.69764527, 16483.58334439, 15838.20029962, 31741.4067136 ,\n",
       "       31482.59678977, 15775.70396037, 30944.43887153])"
      ]
     },
     "execution_count": 189,
     "metadata": {},
     "output_type": "execute_result"
    }
   ],
   "source": [
    "cap_market_value = np.array(cap_market_value)\n",
    "cap_market_value"
   ]
  },
  {
   "cell_type": "code",
   "execution_count": 190,
   "metadata": {},
   "outputs": [
    {
     "data": {
      "text/plain": [
       "0.025272319342392904"
      ]
     },
     "execution_count": 190,
     "metadata": {},
     "output_type": "execute_result"
    }
   ],
   "source": [
    "fM_0_t = fM(0)\n",
    "fM_0_t"
   ]
  },
  {
   "cell_type": "code",
   "execution_count": 191,
   "metadata": {},
   "outputs": [],
   "source": [
    "a = 0.1  # mean reversion rate, 0.0414\n",
    "sigma = 0.2  # volatility, 0.0088\n",
    "r_0 = 0.02  # short rate at time 0, 0.0202\n",
    "bnds = ((0, None), (0, None), (0, None))\n",
    "input_para = [a, sigma, r_0]"
   ]
  },
  {
   "cell_type": "code",
   "execution_count": 192,
   "metadata": {},
   "outputs": [],
   "source": [
    "a = 0.01  # mean reversion rate, 0.0414\n",
    "sigma = 0.2  # volatility, 0.0088\n",
    "r_0 = 0.02  # short rate at time 0, 0.0202\n",
    "bnds = ((0, None), (0, None), (0, None))\n",
    "input_para = [a, sigma, r_0]"
   ]
  },
  {
   "cell_type": "code",
   "execution_count": 193,
   "metadata": {},
   "outputs": [
    {
     "data": {
      "text/plain": [
       "6320.606163277278"
      ]
     },
     "execution_count": 193,
     "metadata": {},
     "output_type": "execute_result"
    }
   ],
   "source": [
    "HW_Cap_Optimizer(input_para, fM_0_t, cap_market_value, cap_data=cap_data)"
   ]
  },
  {
   "cell_type": "code",
   "execution_count": 194,
   "metadata": {},
   "outputs": [
    {
     "name": "stderr",
     "output_type": "stream",
     "text": [
      "/var/folders/hl/6492kk1939x_mv_8fr9qfz_40000gn/T/ipykernel_60718/569689389.py:25: RuntimeWarning: divide by zero encountered in scalar divide\n",
      "  h = (1 / sigma_p) * log(temp)\n"
     ]
    }
   ],
   "source": [
    "input_para = minimize(fun=HW_Cap_Optimizer, x0=input_para, method='Nelder-Mead',\n",
    "                      bounds=bnds, args=(fM_0_t, cap_market_value, cap_data), tol=1e-4).x"
   ]
  },
  {
   "cell_type": "code",
   "execution_count": 195,
   "metadata": {},
   "outputs": [
    {
     "name": "stdout",
     "output_type": "stream",
     "text": [
      "Loss function value:  0.10256096028582531\n",
      "a    :  0.013348676625546129\n",
      "sigma:  0.020132680852934827\n",
      "r_0  :  0.04815157764055778\n"
     ]
    }
   ],
   "source": [
    "result = HW_Cap_Optimizer(input_para, fM_0_t, cap_market_value, cap_data)\n",
    "print(\"Loss function value: \", result)\n",
    "print(\"a    : \", input_para[0])\n",
    "print(\"sigma: \", input_para[1])\n",
    "print(\"r_0  : \", input_para[2])"
   ]
  },
  {
   "cell_type": "code",
   "execution_count": 196,
   "metadata": {},
   "outputs": [],
   "source": [
    "vol_optim = []\n",
    "# fM_0_t = input_para[2]\n",
    "for i in range(0, number_of_caplets):\n",
    "    this_cap = cap_data[i]\n",
    "    cap_model_value_optim = HW_Cap(input_para[0], input_para[1], input_para[2], fM_0_t, cap=this_cap)\n",
    "    vol_optim.append(Price_to_Vol(cap_model_value_optim, cap=this_cap))"
   ]
  },
  {
   "cell_type": "code",
   "execution_count": 197,
   "metadata": {},
   "outputs": [
    {
     "data": {
      "text/plain": [
       "array([0.22227227])"
      ]
     },
     "execution_count": 197,
     "metadata": {},
     "output_type": "execute_result"
    }
   ],
   "source": [
    "vol_optim = pd.Series(vol_optim)\n",
    "precesion = abs(sum(vol_optim - vol_market) / number_of_caplets)\n",
    "precesion"
   ]
  },
  {
   "cell_type": "code",
   "execution_count": 160,
   "metadata": {},
   "outputs": [
    {
     "data": {
      "image/png": "[encoded data removed]",
      "text/plain": [
       "<Figure size 1000x500 with 1 Axes>"
      ]
     },
     "metadata": {},
     "output_type": "display_data"
    }
   ],
   "source": [
    "real_put_price = []\n",
    "simulated_put_price = []\n",
    "\n",
    "for i in range(118):\n",
    "    real_put_price.append(HW_ZBPut_CF(a=input_para[0], sigma=input_para[1], r_t=input_para[2], fM_0_t=fM(\n",
    "        0), t=0, T=cap['T_iM1'][i], S=cap['T_i'][i], P_t_T=cap['Discount'][i], P_t_S=cap['Discount'][i+1], X=2.71212))\n",
    "    simulated_put_price.append(HW_ZBPut_SM_T(a=input_para[0], sigma=input_para[1], r0=input_para[2], t=0,\n",
    "                 T=cap['T_iM1'][i], S=cap['T_i'][i], X=2.71212, M=10000, time=tm, discounts=ds))\n",
    "\n",
    "# Creating an x-axis label from 0 to 117\n",
    "x_values = list(range(118))\n",
    "\n",
    "# Plotting both datasets on the same plot\n",
    "plt.figure(figsize=(10, 5))\n",
    "plt.plot(x_values, real_put_price, label='Closed Form Price', marker='o')\n",
    "plt.plot(x_values, simulated_put_price, label='Monte Carlo Under T numeraire Price', marker='x')\n",
    "\n",
    "# Adding title and labels\n",
    "plt.title('Comparison of Monte Carlo and Closed Form Pricing',\n",
    "          fontsize=16, fontweight='bold')\n",
    "plt.xlabel('cap index', fontsize=12)\n",
    "plt.ylabel('Zero Coupon Bond Put Price', fontsize=12)\n",
    "plt.legend()\n",
    "plt.grid(True)\n",
    "plt.tight_layout()\n",
    "# Showing the plot\n",
    "plt.show()"
   ]
  },
  {
   "cell_type": "markdown",
   "metadata": {},
   "source": [
    "# Executive Summary"
   ]
  },
  {
   "cell_type": "markdown",
   "metadata": {},
   "source": []
  }
 ],
 "metadata": {
  "kernelspec": {
   "display_name": "Python 3",
   "language": "python",
   "name": "python3"
  },
  "language_info": {
   "codemirror_mode": {
    "name": "ipython",
    "version": 3
   },
   "file_extension": ".py",
   "mimetype": "text/x-python",
   "name": "python",
   "nbconvert_exporter": "python",
   "pygments_lexer": "ipython3",
   "version": "3.9.6"
  }
 },
 "nbformat": 4,
 "nbformat_minor": 2
}
